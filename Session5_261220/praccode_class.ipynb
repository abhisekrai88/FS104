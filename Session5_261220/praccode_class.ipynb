{
 "metadata": {
  "language_info": {
   "codemirror_mode": {
    "name": "ipython",
    "version": 3
   },
   "file_extension": ".py",
   "mimetype": "text/x-python",
   "name": "python",
   "nbconvert_exporter": "python",
   "pygments_lexer": "ipython3",
   "version": "3.9.1-final"
  },
  "orig_nbformat": 2,
  "kernelspec": {
   "name": "python3",
   "display_name": "Python 3.9.1 64-bit",
   "metadata": {
    "interpreter": {
     "hash": "a5bb3dff135d35e04bde0de59f5879b1966216824af37017547c488958d0f50d"
    }
   }
  }
 },
 "nbformat": 4,
 "nbformat_minor": 2,
 "cells": [
  {
   "cell_type": "code",
   "execution_count": 3,
   "metadata": {},
   "outputs": [
    {
     "output_type": "stream",
     "name": "stdout",
     "text": [
      "Hello Moon\nMy destination -  moon\nMy destination -  mars\n"
     ]
    }
   ],
   "source": [
    "#create class\n",
    "class Apollo:\n",
    "    #create variables\n",
    "    destination = \"moon\"\n",
    "    #define functions/behaviors\n",
    "    def printhello(self):\n",
    "        print(\"Hello Moon\")\n",
    "    def get_destination(self):\n",
    "        print(\"My destination - \", self.destination)\n",
    "#create objects\n",
    "apollo1 = Apollo()\n",
    "apollo1.printhello()\n",
    "apollo1.get_destination()\n",
    "\n",
    "#create 2nd object\n",
    "apollo2 = Apollo()\n",
    "#to add in a new defination for the stated object\n",
    "apollo2.destination = \"mars\"\n",
    "apollo2.get_destination()"
   ]
  },
  {
   "cell_type": "code",
   "execution_count": 15,
   "metadata": {},
   "outputs": [
    {
     "output_type": "stream",
     "name": "stdout",
     "text": [
      "Hello Moon\nMy destination -  moon\nMy destination -  mars\n"
     ]
    }
   ],
   "source": [
    "#variation 2 of above\n",
    "#create class\n",
    "class Apollo:\n",
    "    #define a constructor to initialise\n",
    "    def __init__(self, destination):\n",
    "        self.mission_destination = destination\n",
    "    #define functions\n",
    "    def printhello(self):\n",
    "        print(\"Hello Moon\")\n",
    "    def get_destination(self):\n",
    "        print(\"My destination - \", self.mission_destination)\n",
    "#create objects\n",
    "apollo1 = Apollo(\"moon\")\n",
    "apollo1.printhello()\n",
    "apollo1.get_destination()\n",
    "\n",
    "#create 2nd object\n",
    "apollo2 = Apollo(\"mars\")\n",
    "apollo2.get_destination()"
   ]
  },
  {
   "cell_type": "code",
   "execution_count": 17,
   "metadata": {},
   "outputs": [
    {
     "output_type": "stream",
     "name": "stdout",
     "text": [
      "My destination -  Home1\nMy destination -  House1\n"
     ]
    }
   ],
   "source": [
    "#With __init__:\n",
    "DictofPlaces = {'Home': 'Home1', 'House': 'House1'}\n",
    "\n",
    "#create class\n",
    "class Place:\n",
    "    #create variables\n",
    "    def __init__(self,destination):\n",
    "        self.destination = destination\n",
    "    #define functions/behaviors\n",
    "    def printhello(self):\n",
    "        print(\"Hello!!!!\")\n",
    "    def get_destination(self):\n",
    "        print(\"My destination - \", self.destination)\n",
    "\n",
    "for key in DictofPlaces:\n",
    "    objectname = \"object\" + key\n",
    "    objectname = Place(DictofPlaces[key])\n",
    "    objectname.get_destination()\n"
   ]
  },
  {
   "cell_type": "code",
   "execution_count": 18,
   "metadata": {},
   "outputs": [
    {
     "output_type": "stream",
     "name": "stdout",
     "text": [
      "My destination -  Home1\nMy destination -  House1\n"
     ]
    }
   ],
   "source": [
    "#Method one without __init__:\n",
    "DictofPlaces = {'Home': 'Home1', 'House': 'House1'}\n",
    "\n",
    "#create class\n",
    "class Place:\n",
    "    #create variables\n",
    "    destination = \"\"\n",
    "    #define functions/behaviors\n",
    "    def printhello(self):\n",
    "        print(\"Hello!!!!\")\n",
    "    def get_destination(self):\n",
    "        print(\"My destination - \", self.destination)\n",
    "\n",
    "for key in DictofPlaces:\n",
    "    objectname = \"object\" + key\n",
    "    objectname = Place()\n",
    "    objectname.destination = DictofPlaces[key]\n",
    "    objectname.get_destination()\n"
   ]
  },
  {
   "cell_type": "code",
   "execution_count": null,
   "metadata": {},
   "outputs": [],
   "source": []
  }
 ]
}