{
 "metadata": {
  "language_info": {
   "codemirror_mode": {
    "name": "ipython",
    "version": 3
   },
   "file_extension": ".py",
   "mimetype": "text/x-python",
   "name": "python",
   "nbconvert_exporter": "python",
   "pygments_lexer": "ipython3",
   "version": "3.9.1-final"
  },
  "orig_nbformat": 2,
  "kernelspec": {
   "name": "python3",
   "display_name": "Python 3.9.1 64-bit",
   "metadata": {
    "interpreter": {
     "hash": "a5bb3dff135d35e04bde0de59f5879b1966216824af37017547c488958d0f50d"
    }
   }
  }
 },
 "nbformat": 4,
 "nbformat_minor": 2,
 "cells": [
  {
   "cell_type": "code",
   "execution_count": 7,
   "metadata": {},
   "outputs": [
    {
     "output_type": "stream",
     "name": "stdout",
     "text": [
      "15\n15\n"
     ]
    }
   ],
   "source": [
    "a = lambda x : x + 10\n",
    "print(a(5))\n",
    "\n",
    "#before\n",
    "def function(x):\n",
    "    return x+10\n",
    "\n",
    "function(5)\n",
    "\n",
    "#after\n",
    "#a = lambda x : x + 10\n",
    "#print(a(5))"
   ]
  },
  {
   "cell_type": "code",
   "execution_count": 9,
   "metadata": {},
   "outputs": [
    {
     "output_type": "stream",
     "name": "stdout",
     "text": [
      "[-5, -4, -3, -2, -1]\nrange(-5, 5)\n"
     ]
    }
   ],
   "source": [
    "#create a list of elements\n",
    "mylist = range(-5, 5)\n",
    "#applying filter on the list we had created\n",
    "negatives = filter(lambda x: x < 0, mylist)\n",
    "print(list(negatives))\n",
    "print(mylist)#filter does not alter the data in mylist"
   ]
  },
  {
   "cell_type": "code",
   "execution_count": 10,
   "metadata": {},
   "outputs": [
    {
     "output_type": "stream",
     "name": "stdout",
     "text": [
      "[11, 12, 13, 14]\n"
     ]
    }
   ],
   "source": [
    "#map lambda example\n",
    "a = [1,2,3,4]\n",
    "b = [10,10,10,10]\n",
    "c = map(lambda x,y:x+y,a,b)\n",
    "print(list(c))"
   ]
  },
  {
   "cell_type": "code",
   "execution_count": 29,
   "metadata": {},
   "outputs": [
    {
     "output_type": "stream",
     "name": "stdout",
     "text": [
      "11\n12\n13\n14\n"
     ]
    }
   ],
   "source": [
    "#for above example is lambda is not used\n",
    "a = [1,2,3,4]\n",
    "b = [10,10,10,10]\n",
    "sum = 0\n",
    "for i in a:\n",
    "    for j in b:\n",
    "        sum = i+j\n",
    "    print(sum)"
   ]
  },
  {
   "cell_type": "code",
   "execution_count": null,
   "metadata": {},
   "outputs": [],
   "source": []
  }
 ]
}