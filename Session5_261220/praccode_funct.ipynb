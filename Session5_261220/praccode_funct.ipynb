{
 "metadata": {
  "language_info": {
   "codemirror_mode": {
    "name": "ipython",
    "version": 3
   },
   "file_extension": ".py",
   "mimetype": "text/x-python",
   "name": "python",
   "nbconvert_exporter": "python",
   "pygments_lexer": "ipython3",
   "version": "3.9.1-final"
  },
  "orig_nbformat": 2,
  "kernelspec": {
   "name": "python3",
   "display_name": "Python 3.9.1 64-bit",
   "metadata": {
    "interpreter": {
     "hash": "a5bb3dff135d35e04bde0de59f5879b1966216824af37017547c488958d0f50d"
    }
   }
  }
 },
 "nbformat": 4,
 "nbformat_minor": 2,
 "cells": [
  {
   "source": [
    "The problem statement\n",
    "\n",
    "try and create three functions \n",
    "1. two add two numbers\n",
    "2. Two concatenate two strings \n",
    "3. Just to print hellpo\n"
   ],
   "cell_type": "markdown",
   "metadata": {}
  },
  {
   "cell_type": "code",
   "execution_count": 24,
   "metadata": {},
   "outputs": [
    {
     "output_type": "stream",
     "name": "stdout",
     "text": [
      "15\n"
     ]
    }
   ],
   "source": [
    "#def addition(num1,num2):\n",
    "    #if type(num1) == int and type(num2) == int:\n",
    "        #return num1 + num2\n",
    "    #else:\n",
    "        #return \"input is a no go!\"\n",
    "\n",
    "#print(addition(1,2))\n",
    "\n",
    "def listnumbers(inputs):\n",
    "    sum = 0\n",
    "    for i in inputs:\n",
    "        sum += i\n",
    "    return sum\n",
    "print(listnumbers((1,2,3,4,5)))\n",
    "        \n",
    "\n",
    "\n",
    "\n"
   ]
  },
  {
   "cell_type": "code",
   "execution_count": 12,
   "metadata": {},
   "outputs": [
    {
     "output_type": "execute_result",
     "data": {
      "text/plain": [
       "'heyworld'"
      ]
     },
     "metadata": {},
     "execution_count": 12
    }
   ],
   "source": [
    "def concstring(word1, word2):\n",
    "    conc = str(word1) + str(word2)\n",
    "    return conc\n",
    "concstring(\"hey\", \"world\")    "
   ]
  },
  {
   "cell_type": "code",
   "execution_count": 4,
   "metadata": {},
   "outputs": [
    {
     "output_type": "stream",
     "name": "stdout",
     "text": [
      "functions!\n"
     ]
    }
   ],
   "source": [
    "def word():\n",
    "    return \"functions!\"\n",
    "assignment = word()\n",
    "print (assignment)"
   ]
  },
  {
   "cell_type": "code",
   "execution_count": null,
   "metadata": {},
   "outputs": [],
   "source": []
  }
 ]
}