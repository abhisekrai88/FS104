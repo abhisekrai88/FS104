{
 "metadata": {
  "language_info": {
   "codemirror_mode": {
    "name": "ipython",
    "version": 3
   },
   "file_extension": ".py",
   "mimetype": "text/x-python",
   "name": "python",
   "nbconvert_exporter": "python",
   "pygments_lexer": "ipython3",
   "version": "3.9.1-final"
  },
  "orig_nbformat": 2,
  "kernelspec": {
   "name": "python3",
   "display_name": "Python 3.9.1 64-bit",
   "metadata": {
    "interpreter": {
     "hash": "a5bb3dff135d35e04bde0de59f5879b1966216824af37017547c488958d0f50d"
    }
   }
  }
 },
 "nbformat": 4,
 "nbformat_minor": 2,
 "cells": [
  {
   "cell_type": "code",
   "execution_count": 1,
   "metadata": {},
   "outputs": [],
   "source": [
    "#class example\n",
    "class Animal:\n",
    "    #class method\n",
    "    def returnanumber():\n",
    "        return 5\n",
    "\n",
    "    "
   ]
  },
  {
   "cell_type": "code",
   "execution_count": 10,
   "metadata": {},
   "outputs": [
    {
     "output_type": "stream",
     "name": "stdout",
     "text": [
      "1 Abhisek\n2 Henna\n"
     ]
    }
   ],
   "source": [
    "class Employee:\n",
    "    #attributes/properties\n",
    "    employee_id = \"\"\n",
    "    employee_name = \"\"\n",
    "    #methods/behavior\n",
    "    def returnemployeeid(self, id, name):\n",
    "        employee_id = id\n",
    "        employee_name = name\n",
    "        print(employee_id, employee_name)\n",
    "\n",
    "employee1 = Employee()\n",
    "#question here?\n",
    "employee1.returnemployeeid(1, \"Abhisek\")\n",
    "\n",
    "employee2 = Employee()\n",
    "employee2.returnemployeeid(2, \"Henna\")\n",
    "        "
   ]
  },
  {
   "cell_type": "code",
   "execution_count": 11,
   "metadata": {},
   "outputs": [
    {
     "output_type": "stream",
     "name": "stdout",
     "text": [
      "Name: gab; Rank: cp; Salary: 10000\nName: vai; Rank: cp; Salary: 10000\nName: gab; Rank: cp; Salary: 10000\n"
     ]
    }
   ],
   "source": [
    "#gabs example\n",
    "\n",
    "class Employee: \n",
    "    def __init__(self,name,rank,salary):\n",
    "        self.name = name\n",
    "        self.rank = rank\n",
    "        self.salary = salary\n",
    "        \n",
    "    def display_employee(self):\n",
    "        print(\"Name: {}; Rank: {}; Salary: {}\".format(self.name,self.rank,self.salary))\n",
    "        \n",
    "    def pay_raise(self, increment):\n",
    "        self.salary += increment\n",
    "    \n",
    "    def promo(self, new_rank):\n",
    "        self.rank = new_rank\n",
    "\n",
    "\n",
    "me = Employee(\"gab\",\"cp\",10000)\n",
    "me.display_employee()\n",
    "\n",
    "me1 = Employee(\"vai\",\"cp\",10000)\n",
    "me1.display_employee()\n",
    "\n",
    "me.display_employee()\n"
   ]
  },
  {
   "cell_type": "code",
   "execution_count": 12,
   "metadata": {},
   "outputs": [
    {
     "output_type": "stream",
     "name": "stdout",
     "text": [
      "<class '__main__.Employee'>\n"
     ]
    }
   ],
   "source": [
    "class Employee:\n",
    "    \"\" \n",
    "me = Employee()\n",
    "print(type(me))\n"
   ]
  },
  {
   "cell_type": "code",
   "execution_count": 19,
   "metadata": {},
   "outputs": [
    {
     "output_type": "stream",
     "name": "stdout",
     "text": [
      "all is well 1\n"
     ]
    }
   ],
   "source": [
    "class Newsample:\n",
    "    def __init__(self, number1):\n",
    "        self.num1 = number1\n",
    "        print(\"all is well\", self.num1)\n",
    "\n",
    "object = Newsample(1)"
   ]
  },
  {
   "cell_type": "code",
   "execution_count": 22,
   "metadata": {},
   "outputs": [
    {
     "output_type": "stream",
     "name": "stdout",
     "text": [
      "object deleted\n"
     ]
    }
   ],
   "source": [
    "class Employee:\n",
    "    def __init__(self, name):\n",
    "        self.empname = name\n",
    "    def __del__(self):\n",
    "        print(\"object deleted\")\n",
    "    def printname(self):\n",
    "        print(self.empname)\n",
    "\n",
    "emp1 = Employee(\"Abi\")\n",
    "del emp1\n",
    "\n",
    "\n",
    "    "
   ]
  },
  {
   "cell_type": "code",
   "execution_count": 26,
   "metadata": {},
   "outputs": [
    {
     "output_type": "stream",
     "name": "stdout",
     "text": [
      "1 2\n"
     ]
    }
   ],
   "source": [
    "class Calculator:\n",
    "    def __init__(self, a, b):\n",
    "        self.a = a\n",
    "        self.b = b\n",
    "    def printnumbers(self):\n",
    "        print(self.a, self.b)\n",
    "\n",
    "calculation = Calculator(1,2)\n",
    "calculation.printnumbers()\n",
    "    "
   ]
  },
  {
   "cell_type": "code",
   "execution_count": null,
   "metadata": {},
   "outputs": [],
   "source": []
  }
 ]
}