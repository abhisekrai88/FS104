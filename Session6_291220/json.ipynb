{
 "metadata": {
  "language_info": {
   "codemirror_mode": {
    "name": "ipython",
    "version": 3
   },
   "file_extension": ".py",
   "mimetype": "text/x-python",
   "name": "python",
   "nbconvert_exporter": "python",
   "pygments_lexer": "ipython3",
   "version": "3.9.1-final"
  },
  "orig_nbformat": 2,
  "kernelspec": {
   "name": "python3",
   "display_name": "Python 3.9.1 64-bit",
   "metadata": {
    "interpreter": {
     "hash": "a5bb3dff135d35e04bde0de59f5879b1966216824af37017547c488958d0f50d"
    }
   }
  }
 },
 "nbformat": 4,
 "nbformat_minor": 2,
 "cells": [
  {
   "cell_type": "code",
   "execution_count": 1,
   "metadata": {},
   "outputs": [
    {
     "output_type": "stream",
     "name": "stdout",
     "text": [
      "{'name': 'Abhisek', 'languages': ['English', 'Hindi']}\n['English', 'Hindi']\n"
     ]
    }
   ],
   "source": [
    "#load json as dictionary\n",
    "\n",
    "import json\n",
    "\n",
    "person = '{\"name\": \"Abhisek\", \"languages\": [\"English\", \"Hindi\"]}'\n",
    "person_dict = json.loads(person)\n",
    "\n",
    "print(person_dict)\n",
    "\n",
    "print(person_dict['languages'])"
   ]
  },
  {
   "cell_type": "code",
   "execution_count": null,
   "metadata": {},
   "outputs": [],
   "source": []
  },
  {
   "cell_type": "code",
   "execution_count": 4,
   "metadata": {},
   "outputs": [
    {
     "output_type": "stream",
     "name": "stdout",
     "text": [
      "{'name': 'Abhisek', 'languages': ['English', 'Hindi']}\n"
     ]
    }
   ],
   "source": [
    "file_object = open(\"person.json\", \"w\")\n",
    "file_object.write('{\"name\": \"Abhisek\", \"languages\": [\"English\", \"Hindi\"]}')\n",
    "file_object.close()\n",
    "\n",
    "#using with to replace file = open() & file.clos()\n",
    "\n",
    "with open('person.json') as f:\n",
    "    data = json.load(f)\n",
    "\n",
    "print(data)\n"
   ]
  },
  {
   "cell_type": "code",
   "execution_count": 6,
   "metadata": {},
   "outputs": [
    {
     "output_type": "stream",
     "name": "stdout",
     "text": [
      "{\"name\": \"Abhisek\", \"age\": 32, \"children\": 2}\n"
     ]
    }
   ],
   "source": [
    "#dict to json\n",
    "import json\n",
    "\n",
    "person_dict = {'name': 'Abhisek',\n",
    "'age': 32,\n",
    "'children': 2\n",
    "}\n",
    "person_json = json.dumps(person_dict)\n",
    "\n",
    "print(person_json)\n",
    "\n",
    "\n"
   ]
  },
  {
   "cell_type": "code",
   "execution_count": 7,
   "metadata": {},
   "outputs": [],
   "source": [
    "#json to a file\n",
    "\n",
    "import json\n",
    "\n",
    "person_dict = {\"name\": \"Abhisek\",\n",
    "\"languages\": [\"English\", \"Hindi\"],\n",
    "\"married\": True,\n",
    "\"age\": 32\n",
    "}\n",
    "\n",
    "with open('person.txt', 'w') as json_file:\n",
    "  json.dump(person_dict, json_file)\n"
   ]
  },
  {
   "cell_type": "code",
   "execution_count": 10,
   "metadata": {},
   "outputs": [
    {
     "output_type": "stream",
     "name": "stdout",
     "text": [
      "Abhisek Rai\n"
     ]
    }
   ],
   "source": [
    "person_dict = {\n",
    "    'first_name': 'Abhisek',\n",
    "    'last_name': 'Rai'\n",
    "}\n",
    "\n",
    "print(person_dict['first_name'], person_dict['last_name'])\n"
   ]
  },
  {
   "cell_type": "code",
   "execution_count": null,
   "metadata": {},
   "outputs": [],
   "source": []
  }
 ]
}