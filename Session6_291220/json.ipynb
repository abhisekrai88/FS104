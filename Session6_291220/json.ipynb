{
 "metadata": {
  "language_info": {
   "codemirror_mode": {
    "name": "ipython",
    "version": 3
   },
   "file_extension": ".py",
   "mimetype": "text/x-python",
   "name": "python",
   "nbconvert_exporter": "python",
   "pygments_lexer": "ipython3",
   "version": "3.9.1-final"
  },
  "orig_nbformat": 2,
  "kernelspec": {
   "name": "python3",
   "display_name": "Python 3.9.1 64-bit",
   "metadata": {
    "interpreter": {
     "hash": "a5bb3dff135d35e04bde0de59f5879b1966216824af37017547c488958d0f50d"
    }
   }
  }
 },
 "nbformat": 4,
 "nbformat_minor": 2,
 "cells": [
  {
   "cell_type": "code",
   "execution_count": 1,
   "metadata": {},
   "outputs": [
    {
     "output_type": "stream",
     "name": "stdout",
     "text": [
      "{'name': 'Abhisek', 'languages': ['English', 'Hindi']}\n['English', 'Hindi']\n"
     ]
    }
   ],
   "source": [
    "#load json as dictionary\n",
    "\n",
    "import json\n",
    "\n",
    "person = '{\"name\": \"Abhisek\", \"languages\": [\"English\", \"Hindi\"]}'\n",
    "person_dict = json.loads(person)\n",
    "\n",
    "print(person_dict)\n",
    "\n",
    "print(person_dict['languages'])"
   ]
  },
  {
   "cell_type": "code",
   "execution_count": null,
   "metadata": {},
   "outputs": [],
   "source": []
  }
 ]
}