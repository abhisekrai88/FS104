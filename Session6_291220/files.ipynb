{
 "metadata": {
  "language_info": {
   "codemirror_mode": {
    "name": "ipython",
    "version": 3
   },
   "file_extension": ".py",
   "mimetype": "text/x-python",
   "name": "python",
   "nbconvert_exporter": "python",
   "pygments_lexer": "ipython3",
   "version": "3.9.1-final"
  },
  "orig_nbformat": 2,
  "kernelspec": {
   "name": "python3",
   "display_name": "Python 3.9.1 64-bit",
   "metadata": {
    "interpreter": {
     "hash": "a5bb3dff135d35e04bde0de59f5879b1966216824af37017547c488958d0f50d"
    }
   }
  }
 },
 "nbformat": 4,
 "nbformat_minor": 2,
 "cells": [
  {
   "cell_type": "code",
   "execution_count": 6,
   "metadata": {},
   "outputs": [],
   "source": [
    "#create a file\n",
    "\n",
    "#file_object = open(\"filename\", \"mode\")\n",
    "\n",
    "file_object = open(\"test1.txt\", \"w\")\n",
    "#write into a file\n",
    "\n",
    "file_object.write(\"Just some text that i added to the file\")\n",
    "#to close file we have used it\n",
    "\n",
    "file_object.close()\n"
   ]
  },
  {
   "cell_type": "code",
   "execution_count": 7,
   "metadata": {},
   "outputs": [],
   "source": [
    "file_string = str(input(\"Enter Text here:\"))\n",
    "\n",
    "def write(text):\n",
    "    file_object = open(\"testfile.txt\",\"w\")\n",
    "    file_object.write(text)\n",
    "    file_object.close()\n",
    "\n",
    "write(file_string)\n"
   ]
  },
  {
   "cell_type": "code",
   "execution_count": 8,
   "metadata": {},
   "outputs": [],
   "source": [
    "#Append text to a file\n",
    "\n",
    "def append_to_file(argument_from_function):\n",
    "    file_object=open(\"testfile.txt\", \"a+\")\n",
    "    file_object.write(argument_from_function)\n",
    "    file_object.close()\n",
    "\n",
    "append_to_file(\"Hi there, its me again!\")\n"
   ]
  },
  {
   "cell_type": "code",
   "execution_count": 15,
   "metadata": {},
   "outputs": [
    {
     "output_type": "stream",
     "name": "stdout",
     "text": [
      "H\nE\nL\nL\nL\nL\nL\nL\nO\nO\nO\nO\n!\n!\n!\n!\nH\ni\n \nt\nh\ne\nr\ne\n,\n \ni\nt\ns\n \nm\ne\n \na\ng\na\ni\nn\n!\n"
     ]
    }
   ],
   "source": [
    "#reading a file\n",
    "\n",
    "file_object=open(\"testfile.txt\", \"r\")\n",
    "\n",
    "if file_object.mode == \"r\":\n",
    "    contents = file_object.read()\n",
    "    for line in contents:\n",
    "        print(line)"
   ]
  },
  {
   "cell_type": "code",
   "execution_count": null,
   "metadata": {},
   "outputs": [],
   "source": []
  }
 ]
}