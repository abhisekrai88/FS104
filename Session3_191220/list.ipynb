{
 "metadata": {
  "language_info": {
   "codemirror_mode": {
    "name": "ipython",
    "version": 3
   },
   "file_extension": ".py",
   "mimetype": "text/x-python",
   "name": "python",
   "nbconvert_exporter": "python",
   "pygments_lexer": "ipython3",
   "version": "3.9.1-final"
  },
  "orig_nbformat": 2,
  "kernelspec": {
   "name": "python3",
   "display_name": "Python 3.9.1 64-bit",
   "metadata": {
    "interpreter": {
     "hash": "a5bb3dff135d35e04bde0de59f5879b1966216824af37017547c488958d0f50d"
    }
   }
  }
 },
 "nbformat": 4,
 "nbformat_minor": 2,
 "cells": [
  {
   "cell_type": "code",
   "execution_count": 1,
   "metadata": {},
   "outputs": [
    {
     "output_type": "stream",
     "name": "stdout",
     "text": [
      "[]\n<class 'list'>\n"
     ]
    }
   ],
   "source": [
    "list = []\n",
    "\n",
    "print(list)\n",
    "\n",
    "print(type(list))"
   ]
  },
  {
   "cell_type": "code",
   "execution_count": 2,
   "metadata": {},
   "outputs": [
    {
     "output_type": "stream",
     "name": "stdout",
     "text": [
      "[] [10, 20, 30] [1, 'Hello', 3.4]\n"
     ]
    }
   ],
   "source": [
    "# blank list\n",
    "L1 = []\n",
    "\n",
    "# list of integers\n",
    "L2 = [10, 20, 30]\n",
    "\n",
    "# List of heterogenous data types\n",
    "L3 = [1, \"Hello\", 3.4]\n",
    "\n",
    "print(L1, L2, L3)\n"
   ]
  },
  {
   "cell_type": "code",
   "execution_count": 1,
   "metadata": {},
   "outputs": [],
   "source": [
    "theList = [iter for iter in range(5)]\n"
   ]
  },
  {
   "cell_type": "code",
   "execution_count": null,
   "metadata": {},
   "outputs": [],
   "source": [
    "listofCountries = [\"India\",\"America\",\"England\",\"Germany\",\"Brazil\",\"Vietnam\"]\n",
    "lettes = [\"I\", \"A\"]\n",
    "firstLetters = [ country[0] for country in listofCountries ]\n",
    "\n",
    "#get the list of countries\n",
    "#iterate over the list using the for loop\n",
    "#read each element of the list, e.g. firt element would be India\n",
    "#country = India\n",
    "#Get the first element of the string, country which I\n",
    "#store this value inside the list firstletters\n",
    "print(firstLetters)\n"
   ]
  },
  {
   "cell_type": "code",
   "execution_count": 8,
   "metadata": {},
   "outputs": [
    {
     "output_type": "stream",
     "name": "stdout",
     "text": [
      "['I', 'a', 'd', 'i', 'n']\n"
     ]
    }
   ],
   "source": [
    "country = \"India\"\n",
    "seqLetters = [letters[0] for letters in country]\n",
    "#print letters of the string sequentially\n",
    "seqLetters.sort()\n",
    "print(seqLetters)\n"
   ]
  },
  {
   "cell_type": "code",
   "execution_count": 10,
   "metadata": {},
   "outputs": [
    {
     "output_type": "stream",
     "name": "stdout",
     "text": [
      "I\nn\nd\ni\na\n"
     ]
    }
   ],
   "source": [
    "country = \"India\"\n",
    "for char in country:\n",
    "    print(char)"
   ]
  },
  {
   "cell_type": "code",
   "execution_count": 12,
   "metadata": {},
   "outputs": [
    {
     "output_type": "execute_result",
     "data": {
      "text/plain": [
       "[0, 0, 0]"
      ]
     },
     "metadata": {},
     "execution_count": 12
    }
   ],
   "source": [
    "init_list = [0]*3\n",
    "init_list"
   ]
  },
  {
   "cell_type": "code",
   "execution_count": 13,
   "metadata": {},
   "outputs": [
    {
     "output_type": "execute_result",
     "data": {
      "text/plain": [
       "[1, 2, 2, 3]"
      ]
     },
     "metadata": {},
     "execution_count": 13
    }
   ],
   "source": [
    "#method 1 to combine list\n",
    "list1 = [1,2]\n",
    "list2 = [2,3]\n",
    "list1=list1+list2\n"
   ]
  },
  {
   "cell_type": "code",
   "execution_count": 14,
   "metadata": {},
   "outputs": [
    {
     "output_type": "execute_result",
     "data": {
      "text/plain": [
       "[1, 2, 2, 3]"
      ]
     },
     "metadata": {},
     "execution_count": 14
    }
   ],
   "source": [
    "#method 2 to combine list\n",
    "list1.extend(list2)\n",
    "list1"
   ]
  },
  {
   "cell_type": "code",
   "execution_count": 15,
   "metadata": {},
   "outputs": [],
   "source": [
    "list3=[0,0]\n",
    "list1.append(list3)\n"
   ]
  },
  {
   "cell_type": "code",
   "execution_count": 17,
   "metadata": {},
   "outputs": [
    {
     "output_type": "execute_result",
     "data": {
      "text/plain": [
       "3"
      ]
     },
     "metadata": {},
     "execution_count": 17
    }
   ],
   "source": [
    "#accessing elements\n",
    "list1[3]"
   ]
  },
  {
   "cell_type": "code",
   "execution_count": 21,
   "metadata": {},
   "outputs": [
    {
     "output_type": "stream",
     "name": "stdout",
     "text": [
      "4\n0\n"
     ]
    }
   ],
   "source": [
    "listofnumbers = [1,2,4,5,6,0]\n",
    "#find the number at 2nd & 5th pos\n",
    "print(listofnumbers[2])\n",
    "print(listofnumbers[5])"
   ]
  },
  {
   "cell_type": "code",
   "execution_count": 22,
   "metadata": {},
   "outputs": [
    {
     "output_type": "stream",
     "name": "stdout",
     "text": [
      "u\ni\n"
     ]
    }
   ],
   "source": [
    "#traverse in the other order\n",
    "vowels = ['a','e','i','o','u']\n",
    "\n",
    "print(vowels[-1])\n",
    "\n",
    "print(vowels[-3])\n"
   ]
  },
  {
   "cell_type": "code",
   "execution_count": 24,
   "metadata": {},
   "outputs": [
    {
     "output_type": "stream",
     "name": "stdout",
     "text": [
      "[33, 55, 66]\n"
     ]
    }
   ],
   "source": [
    "#adding values to list\n",
    "theList = [55,66]\n",
    "theList.insert(0,33)\n",
    "print(theList)"
   ]
  },
  {
   "cell_type": "code",
   "execution_count": null,
   "metadata": {},
   "outputs": [],
   "source": []
  }
 ]
}