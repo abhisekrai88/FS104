{
 "metadata": {
  "language_info": {
   "codemirror_mode": {
    "name": "ipython",
    "version": 3
   },
   "file_extension": ".py",
   "mimetype": "text/x-python",
   "name": "python",
   "nbconvert_exporter": "python",
   "pygments_lexer": "ipython3",
   "version": "3.9.1-final"
  },
  "orig_nbformat": 2,
  "kernelspec": {
   "name": "python3",
   "display_name": "Python 3.9.1 64-bit",
   "metadata": {
    "interpreter": {
     "hash": "a5bb3dff135d35e04bde0de59f5879b1966216824af37017547c488958d0f50d"
    }
   }
  }
 },
 "nbformat": 4,
 "nbformat_minor": 2,
 "cells": [
  {
   "cell_type": "code",
   "execution_count": 2,
   "metadata": {},
   "outputs": [],
   "source": [
    "class EmployeeOffice: #take note of the naming convention\n",
    "    def __init__(self,name,rank,salary):\n",
    "        self.name = name\n",
    "        self.rank = rank\n",
    "        self.salary = salary\n",
    "        \n",
    "    #now define a method display_employee that will print the below format\n",
    "    #\" Name: bin; Rank: junior; Salary: 1000\"\n",
    "    def display_employee(self):\n",
    "        print(\"Name: {}; Rank: {}; Salary: {}\".format(self.name,self.rank,self.salary))\n",
    "        \n",
    "    def pay_raise(self, increment):\n",
    "        self.salary += increment\n",
    "    \n",
    "    def promo(self, new_rank):\n",
    "        self.rank = new_rank\n"
   ]
  },
  {
   "cell_type": "code",
   "execution_count": null,
   "metadata": {},
   "outputs": [],
   "source": []
  }
 ]
}