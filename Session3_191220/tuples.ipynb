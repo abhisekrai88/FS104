{
 "metadata": {
  "language_info": {
   "codemirror_mode": {
    "name": "ipython",
    "version": 3
   },
   "file_extension": ".py",
   "mimetype": "text/x-python",
   "name": "python",
   "nbconvert_exporter": "python",
   "pygments_lexer": "ipython3",
   "version": "3.9.1-final"
  },
  "orig_nbformat": 2,
  "kernelspec": {
   "name": "python3",
   "display_name": "Python 3.9.1 64-bit",
   "metadata": {
    "interpreter": {
     "hash": "a5bb3dff135d35e04bde0de59f5879b1966216824af37017547c488958d0f50d"
    }
   }
  }
 },
 "nbformat": 4,
 "nbformat_minor": 2,
 "cells": [
  {
   "cell_type": "code",
   "execution_count": 1,
   "metadata": {},
   "outputs": [
    {
     "output_type": "stream",
     "name": "stdout",
     "text": [
      "A blank tuple: ()\nA tuple set without parenthesis: (33, 55, 77) type: <class 'tuple'>\nA tuple of numbers: (33, 55, 77)\nA tuple of mixed numbers: (33, 3.3, (3+3j))\nA tuple of mixed data types: (33, '33', [3, 3])\nA tuple of tuples: (('x', 'y', 'z'), ('X', 'Y', 'Z'))\n"
     ]
    }
   ],
   "source": [
    "# create an empty tuple\n",
    "py_tuple = ()\n",
    "print(\"A blank tuple:\", py_tuple)\n",
    "\n",
    "# create a tuple without using round brackets\n",
    "py_tuple = 33, 55, 77\n",
    "print(\"A tuple set without parenthesis:\", py_tuple, \"type:\", type(py_tuple))\n",
    "\n",
    "# create a tuple of numbers\n",
    "py_tuple = (33, 55, 77)\n",
    "print(\"A tuple of numbers:\", py_tuple)\n",
    "\n",
    "# create a tuple of mixed numbers\n",
    "# such as integer, float, imaginary\n",
    "py_tuple = (33, 3.3, 3+3j)\n",
    "print(\"A tuple of mixed numbers:\", py_tuple)\n",
    "\n",
    "# create a tuple of mixed data types\n",
    "# such as numbers, strings, lists\n",
    "py_tuple = (33, \"33\", [3, 3])\n",
    "print(\"A tuple of mixed data types:\", py_tuple)\n",
    "\n",
    "# create a tuple of tuples\n",
    "# i.e. a nested tuple\n",
    "py_tuple = (('x', 'y', 'z'), ('X', 'Y', 'Z'))\n",
    "print(\"A tuple of tuples:\", py_tuple)\n"
   ]
  }
 ]
}